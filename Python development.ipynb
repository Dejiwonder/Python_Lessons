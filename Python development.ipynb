{
 "cells": [
  {
   "cell_type": "code",
   "execution_count": 1,
   "metadata": {},
   "outputs": [],
   "source": [
    "import numpy as np \n",
    "import seaborn as sns "
   ]
  },
  {
   "cell_type": "code",
   "execution_count": null,
   "metadata": {},
   "outputs": [],
   "source": []
  },
  {
   "cell_type": "code",
   "execution_count": 2,
   "metadata": {},
   "outputs": [
    {
     "name": "stdout",
     "output_type": "stream",
     "text": [
      "The value is  100\n"
     ]
    }
   ],
   "source": [
    "a = 100\n",
    "type (a)\n",
    "print(\"The value is \",a)\n"
   ]
  },
  {
   "cell_type": "code",
   "execution_count": 3,
   "metadata": {},
   "outputs": [
    {
     "name": "stdout",
     "output_type": "stream",
     "text": [
      "My details are  \n",
      "Name Adedeji \n",
      "Surname  Adeyemi \n"
     ]
    }
   ],
   "source": [
    "first_name = \"Adedeji\" ; last_name = 'Adeyemi '\n",
    "_age = 28\n",
    "print ('My details are ' ,'\\nName', first_name,'\\nSurname ', last_name )"
   ]
  },
  {
   "cell_type": "code",
   "execution_count": 4,
   "metadata": {},
   "outputs": [
    {
     "name": "stdout",
     "output_type": "stream",
     "text": [
      "sum is 64.0\n",
      "difference is -4.0\n"
     ]
    }
   ],
   "source": [
    "num1 = float(input('what is your first num:'))\n",
    "num2 = float(input('what is your second num'))\n",
    "\n",
    "sum = num1+ num2\n",
    "difference = num1 - num2 \n",
    "product = num1 * num2 \n",
    "\n",
    "print ('sum is', sum)\n",
    "print ('difference is', difference)\n",
    "\n"
   ]
  },
  {
   "cell_type": "code",
   "execution_count": 5,
   "metadata": {},
   "outputs": [
    {
     "name": "stdout",
     "output_type": "stream",
     "text": [
      "2013 The yeasr isn't a leapyear\n"
     ]
    }
   ],
   "source": [
    "year = int(input('Emter the Year:'))\n",
    "if year%4==0:\n",
    "    if year%100==0:\n",
    "        if year%400==0:\n",
    "            print(year,'The year is a leapyear')\n",
    "        else:\n",
    "             print(year,\"The yeasr isn't a leapyear\")\n",
    "    else:\n",
    "        print(year,'This is a leapyear')\n",
    "else:\n",
    "    print(year,\"The yeasr isn't a leapyear\")"
   ]
  },
  {
   "cell_type": "code",
   "execution_count": 6,
   "metadata": {},
   "outputs": [
    {
     "name": "stdout",
     "output_type": "stream",
     "text": [
      "The first number is: 32.0\n",
      "The second number is: 12.0\n",
      "Result: 44.0\n"
     ]
    }
   ],
   "source": [
    "num1 = float(input('Enter the first number'))\n",
    "num2 = float(input('Enter the second number'))\n",
    "operation = input('Enter one of the following operation, +, -, /,*')\n",
    "\n",
    "if operation == '+':\n",
    "    result = num1 + num2\n",
    "elif operation == '-':\n",
    "    result= num1 - num2 \n",
    "elif operation == '/':\n",
    "    if num2!=0:\n",
    "     result= num1 / num2 \n",
    "    else: result = 'Error! Division by zero'\n",
    "elif operation == '*':\n",
    "    result= num1 * num2 \n",
    "    \n",
    "else:\n",
    "    result= 'Invalid opeartion '\n",
    "print('The first number is:',num1)\n",
    "print('The second number is:',num2)\n",
    "print ('Result:', result)"
   ]
  },
  {
   "cell_type": "code",
   "execution_count": 7,
   "metadata": {},
   "outputs": [
    {
     "name": "stdout",
     "output_type": "stream",
     "text": [
      "You are above student range, your price is: 55 PLn \n"
     ]
    }
   ],
   "source": [
    "### Deterrmine the ticket price based on age and whether the person is a student \n",
    "student_price = '50 Pln'\n",
    "Non_student = '55 PLn '\n",
    "Age = int(input('Enter your Age:'))\n",
    "Is_student= input('Are you a student, (yes/no)').lower()\n",
    "if Age <= 18:\n",
    "    if Is_student == 'yes':\n",
    "     print('You have a student discount of 10%',student_price)\n",
    "    else: \n",
    "       print('your price is', Non_student) \n",
    "else:\n",
    "    print ('You are above student range, your price is:', Non_student)"
   ]
  },
  {
   "cell_type": "code",
   "execution_count": 8,
   "metadata": {},
   "outputs": [
    {
     "name": "stdout",
     "output_type": "stream",
     "text": [
      "0\n",
      "2\n",
      "4\n"
     ]
    }
   ],
   "source": [
    "### FOR LOOP\n",
    "for i in range (0,5,2):\n",
    "    print (i) "
   ]
  },
  {
   "cell_type": "code",
   "execution_count": 9,
   "metadata": {},
   "outputs": [
    {
     "name": "stdout",
     "output_type": "stream",
     "text": [
      "0\n",
      "1\n",
      "2\n",
      "3\n",
      "4\n",
      "5\n"
     ]
    }
   ],
   "source": [
    "###WHILE LOOP\n",
    "count= 0 \n",
    "while count <=5:\n",
    "    print (count)\n",
    "    count= count+1 "
   ]
  },
  {
   "cell_type": "code",
   "execution_count": 10,
   "metadata": {},
   "outputs": [
    {
     "name": "stdout",
     "output_type": "stream",
     "text": [
      "1\n",
      "3\n",
      "5\n",
      "7\n",
      "9\n",
      "----------------------------------------\n",
      "0\n",
      "1\n",
      "2\n",
      "3\n",
      "4\n",
      "5\n",
      "6\n",
      "7\n",
      "8\n",
      "9\n"
     ]
    }
   ],
   "source": [
    "### LOOP CONTROL STATEMENT \n",
    "##BREAK STATEMENT\n",
    "# for i in range (10):\n",
    "#     if i == 5:\n",
    "#         break \n",
    "#     print(i)\n",
    "## CONTINUE STATEMENT it skips the current iteration and continue with the next \n",
    "for i in range (10):\n",
    "    if i %2 == 0:\n",
    "        continue \n",
    "    print(i)\n",
    "print (\"----------------------------------------\")\n",
    "##PASS \n",
    "for i in range (10):\n",
    "    if i >5:\n",
    "        pass \n",
    "    print(i)"
   ]
  },
  {
   "cell_type": "code",
   "execution_count": 11,
   "metadata": {},
   "outputs": [
    {
     "name": "stdout",
     "output_type": "stream",
     "text": [
      "----------------------FOR LOOP--------------------\n",
      "55\n"
     ]
    }
   ],
   "source": [
    "###Nexted loops \n",
    "#E.G- Calculate the sum of first N natural numbers using a while and for loop\n",
    "\n",
    "##while loop \n",
    "# n= 10\n",
    "# sum= 0\n",
    "# count=1\n",
    "\n",
    "# while count <=10:\n",
    "#     sum=sum+ count\n",
    "#     count=count+1\n",
    "# print (sum)\n",
    "  \n",
    "print('----------------------FOR LOOP--------------------')\n",
    "\n",
    "sum= 0\n",
    "for i in range (11):\n",
    "        sum= sum+ i\n",
    "print (sum)"
   ]
  },
  {
   "cell_type": "code",
   "execution_count": 12,
   "metadata": {},
   "outputs": [
    {
     "name": "stdout",
     "output_type": "stream",
     "text": [
      "3\n",
      "5\n",
      "7\n",
      "9\n",
      "11\n",
      "13\n",
      "15\n",
      "17\n",
      "19\n",
      "21\n",
      "23\n",
      "25\n",
      "27\n",
      "29\n",
      "31\n",
      "33\n",
      "35\n",
      "37\n",
      "39\n",
      "41\n",
      "43\n",
      "45\n",
      "47\n",
      "49\n",
      "51\n",
      "53\n",
      "55\n",
      "57\n",
      "59\n",
      "61\n",
      "63\n",
      "65\n",
      "67\n",
      "69\n",
      "71\n",
      "73\n",
      "75\n",
      "77\n",
      "79\n",
      "81\n",
      "83\n",
      "85\n",
      "87\n",
      "89\n",
      "91\n",
      "93\n",
      "95\n",
      "97\n",
      "99\n"
     ]
    }
   ],
   "source": [
    "for num in range (1,101):\n",
    "     if num > 1:\n",
    "      if num %2 != 0:\n",
    "        print (num )"
   ]
  },
  {
   "cell_type": "code",
   "execution_count": 13,
   "metadata": {},
   "outputs": [
    {
     "name": "stdout",
     "output_type": "stream",
     "text": [
      "0\n",
      "1\n",
      "2\n",
      "3\n",
      "4\n"
     ]
    }
   ],
   "source": [
    "count = 0\n",
    "while count <5:\n",
    "    print(count)\n",
    "    count= count + 1\n",
    "    "
   ]
  },
  {
   "cell_type": "code",
   "execution_count": 14,
   "metadata": {},
   "outputs": [
    {
     "name": "stdout",
     "output_type": "stream",
     "text": [
      "0\n",
      "1\n",
      "2\n",
      "3\n",
      "4\n"
     ]
    }
   ],
   "source": [
    "for i in range (10):\n",
    "    if i ==5:\n",
    "     break\n",
    "    print (i) \n",
    "      "
   ]
  },
  {
   "cell_type": "code",
   "execution_count": 15,
   "metadata": {},
   "outputs": [
    {
     "name": "stdout",
     "output_type": "stream",
     "text": [
      "The sum of the natural numbers is : 55\n",
      "2 is a prime number\n",
      "3 is a prime number\n",
      "5 is a prime number\n",
      "7 is a prime number\n",
      "11 is a prime number\n",
      "13 is a prime number\n",
      "17 is a prime number\n",
      "19 is a prime number\n",
      "23 is a prime number\n",
      "29 is a prime number\n",
      "31 is a prime number\n",
      "37 is a prime number\n",
      "41 is a prime number\n",
      "43 is a prime number\n",
      "47 is a prime number\n",
      "53 is a prime number\n",
      "59 is a prime number\n",
      "61 is a prime number\n",
      "67 is a prime number\n",
      "71 is a prime number\n",
      "73 is a prime number\n",
      "79 is a prime number\n",
      "83 is a prime number\n",
      "89 is a prime number\n",
      "97 is a prime number\n"
     ]
    }
   ],
   "source": [
    "sum= 0\n",
    "for i in range (11):\n",
    "    sum =sum + i\n",
    "    continue\n",
    "    break\n",
    "print('The sum of the natural numbers is :',sum)\n",
    "\n",
    "# prime number bewteen 1 and 10\n",
    "\n",
    "# Loop through numbers from 1 to 100\n",
    "for num in range(1, 101):\n",
    "    # Check if the number is greater than 1 (prime numbers are greater than 1)\n",
    "    if num > 1:\n",
    "        # Check if the number is divisible by any number between 2 and itself\n",
    "        for i in range(2, num):\n",
    "            if num % i == 0:  # If divisible, it's not a prime number\n",
    "                break\n",
    "        else:\n",
    "            # If no divisors were found, it's a prime number\n",
    "            print(f\"{num} is a prime number\")\n",
    "\n",
    "\n"
   ]
  },
  {
   "cell_type": "code",
   "execution_count": 16,
   "metadata": {},
   "outputs": [
    {
     "name": "stdout",
     "output_type": "stream",
     "text": [
      " positive number\n"
     ]
    }
   ],
   "source": [
    "#Write a program that asks the user to input a number and prints whether the number is positive.\n",
    "user= float(input ('Kindly input a number:'))\n",
    "if user >0:\n",
    "    print(' positive number')"
   ]
  },
  {
   "cell_type": "code",
   "execution_count": 17,
   "metadata": {},
   "outputs": [
    {
     "name": "stdout",
     "output_type": "stream",
     "text": [
      "Positive Number\n"
     ]
    }
   ],
   "source": [
    "user= float(input ('Kindly input a number:'))\n",
    "if user <0:\n",
    "    print('Negative number')\n",
    "else:\n",
    "    print('Positive Number')"
   ]
  },
  {
   "cell_type": "code",
   "execution_count": 18,
   "metadata": {},
   "outputs": [
    {
     "ename": "ValueError",
     "evalue": "could not convert string to float: ''",
     "output_type": "error",
     "traceback": [
      "\u001b[1;31m---------------------------------------------------------------------------\u001b[0m",
      "\u001b[1;31mValueError\u001b[0m                                Traceback (most recent call last)",
      "Cell \u001b[1;32mIn[18], line 2\u001b[0m\n\u001b[0;32m      1\u001b[0m \u001b[38;5;66;03m# # Write a program that asks the user to input a number and prints whether the number is positive, negative, or zero.\u001b[39;00m\n\u001b[1;32m----> 2\u001b[0m user \u001b[38;5;241m=\u001b[39m \u001b[38;5;28;43mfloat\u001b[39;49m\u001b[43m(\u001b[49m\u001b[38;5;28;43minput\u001b[39;49m\u001b[43m(\u001b[49m\u001b[38;5;124;43m\"\u001b[39;49m\u001b[38;5;124;43mKindly input a number\u001b[39;49m\u001b[38;5;124;43m\"\u001b[39;49m\u001b[43m)\u001b[49m\u001b[43m)\u001b[49m\n\u001b[0;32m      3\u001b[0m \u001b[38;5;28;01mif\u001b[39;00m user \u001b[38;5;241m<\u001b[39m \u001b[38;5;241m0\u001b[39m:\n\u001b[0;32m      4\u001b[0m     \u001b[38;5;28mprint\u001b[39m(\u001b[38;5;124m'\u001b[39m\u001b[38;5;124mNegative Number\u001b[39m\u001b[38;5;124m'\u001b[39m)\n",
      "\u001b[1;31mValueError\u001b[0m: could not convert string to float: ''"
     ]
    }
   ],
   "source": [
    "# # Write a program that asks the user to input a number and prints whether the number is positive, negative, or zero.\n",
    "user = float(input(\"Kindly input a number\"))\n",
    "if user < 0:\n",
    "    print('Negative Number')\n",
    "elif user > 0:\n",
    "    print('Positve')\n",
    "else:\n",
    "    print ('Zero')\n"
   ]
  },
  {
   "cell_type": "code",
   "execution_count": null,
   "metadata": {},
   "outputs": [],
   "source": [
    "### Assignment 4: Nested if Statement\n",
    "\n",
    "# Write a program that asks the user to input a number and prints whether the number is positive and even, positive and odd, or negative.\n",
    "user = float(input(\"Kindly input a number: \"))\n",
    "\n",
    "if user > 0:  # Check if the number is positive\n",
    "    if user % 2 == 0:  # Check if the number is even\n",
    "        print('Positive and even')\n",
    "    else:  # If not even, it must be odd\n",
    "        print('Positive and odd')\n",
    "elif user < 0:  # Check if the number is negative\n",
    "    print('Negative Number')\n",
    "else:  # If not positive or negative, it must be zero\n",
    "    print('Zero')\n",
    "\n"
   ]
  },
  {
   "cell_type": "code",
   "execution_count": null,
   "metadata": {},
   "outputs": [
    {
     "name": "stdout",
     "output_type": "stream",
     "text": [
      "1\n",
      "2\n",
      "3\n",
      "4\n",
      "5\n",
      "6\n",
      "7\n",
      "8\n",
      "9\n",
      "10\n"
     ]
    }
   ],
   "source": [
    "## Lesson 2.2: Loops\n",
    "### Assignment 5: for Loop\n",
    "\n",
    "# Write a program that prints all the numbers from 1 to 10 using a for loop.\n",
    "for i in range (1,11):\n",
    "    print (i)\n",
    "\n",
    "\n"
   ]
  },
  {
   "cell_type": "code",
   "execution_count": null,
   "metadata": {},
   "outputs": [
    {
     "name": "stdout",
     "output_type": "stream",
     "text": [
      "1\n",
      "2\n",
      "3\n",
      "4\n",
      "5\n",
      "6\n",
      "7\n",
      "8\n",
      "9\n",
      "10\n"
     ]
    }
   ],
   "source": [
    "\n",
    "# Write a program that prints all the numbers from 1 to 10 using a while loop.\n",
    "# ### Assignment 6: while Loop\n",
    "i = 1  # Initialize the variable\n",
    "while i <= 10:  # Set the condition\n",
    "    print(i)\n",
    "    i += 1  # Increment the variable"
   ]
  },
  {
   "cell_type": "code",
   "execution_count": null,
   "metadata": {},
   "outputs": [
    {
     "name": "stdout",
     "output_type": "stream",
     "text": [
      "*****\n",
      "*****\n",
      "*****\n",
      "*****\n",
      "*****\n"
     ]
    }
   ],
   "source": [
    "# ### Assignment 7: Nested Loops\n",
    "for i in range(5):  # Loop for each row\n",
    "    for n in range(5):  # Loop for each column in a row\n",
    "        print(\"*\", end=\"\")  # Print one asterisk without moving to the next line\n",
    "    print()  # Move to the next line after each row\n"
   ]
  },
  {
   "cell_type": "code",
   "execution_count": null,
   "metadata": {},
   "outputs": [
    {
     "name": "stdout",
     "output_type": "stream",
     "text": [
      "The sum of all input numbers is: 45694.0\n"
     ]
    }
   ],
   "source": [
    "# ### Assignment 8: break Statement\n",
    "\n",
    "# Write a program that asks the user to input numbers until they input 0. The program should print the sum of all the input numbers.\n",
    "sum=0\n",
    "user = float(input('kindly input the number'))\n",
    "while user != 0:\n",
    "    sum= sum + user\n",
    "    user +=1\n",
    "    break\n",
    "#CORRECTION\n",
    "sum = 0\n",
    "while True:\n",
    "    user = float(input('Kindly input a number (enter 0 to stop): '))\n",
    "    if user == 0:\n",
    "        break\n",
    "    sum += user\n",
    "\n",
    "print(f'The sum of all input numbers is: {sum}')\n",
    "\n",
    "# ### Assignment 9: continue Statement\n",
    "\n",
    "# Write a program that prints all the numbers from 1 to 10 except 5 using a for loop and continue statement.\n",
    "\n",
    "# ### Assignment 10: pass Statement\n",
    "\n",
    "# Write a program that defines an empty function using the pass statement.\n"
   ]
  },
  {
   "cell_type": "code",
   "execution_count": 13,
   "metadata": {},
   "outputs": [
    {
     "name": "stdout",
     "output_type": "stream",
     "text": [
      "1 2 \n",
      "3 4 \n",
      "5 6 \n"
     ]
    }
   ],
   "source": [
    "nested_tuple = ((1, 2), (3, 4), (5, 6))\n",
    "for sub_tuple in nested_tuple:\n",
    "    for item in sub_tuple:\n",
    "        print(item,end=' ')\n",
    "    print()"
   ]
  },
  {
   "cell_type": "code",
   "execution_count": 33,
   "metadata": {},
   "outputs": [
    {
     "name": "stdout",
     "output_type": "stream",
     "text": [
      "The type of a is: <class 'dict'>\n",
      "The type of c is: <class 'set'>\n",
      "The set is: {1, 2, 3, 4, 5}\n",
      "The difference is {1, 2, 6}\n",
      "Set Union: {1, 2, 3, 4, 5, 6}\n",
      "Set A: {1, 2, 3, 6}\n",
      "Set B: {3, 4, 5}\n",
      "Set A after removal: {1, 6}\n",
      "Set A after clearing: set()\n",
      "True\n",
      "False\n"
     ]
    }
   ],
   "source": [
    "#createing a set \n",
    "a= {}\n",
    "print(\"The type of a is:\", type(a))\n",
    "c = {1, 2, 3, 4, 5, 4}\n",
    "print(\"The type of c is:\", type(c))\n",
    "print(\"The set is:\", c)\n",
    "#set does not allow duplicate values, so the output will be unique values only.\n",
    "# Output: The set is: {1, 2, 3, 4, 5}\n",
    "\n",
    "#Basic set operations\n",
    "set_a = {1, 2, 3}\n",
    "set_b = {3, 4, 5}\n",
    "set_a.add(6)  # Add an element\n",
    "\n",
    "##set operations like union and intersection\n",
    "set_union = set_a | set_b # Union\n",
    "set_a.union (set_b)  # Union using method\n",
    "set_difference = set_a - set_b  # Difference\n",
    "print(\"The difference is\",set_difference)\n",
    "print(\"Set Union:\", set_union)\n",
    "set_intersection = set_a & set_b  # Intersection\n",
    "print(\"Set A:\", set_a)\n",
    "print(\"Set B:\", set_b)\n",
    "\n",
    "# to remove an element from a set, we have two methods, discard and remove\n",
    "set_a.discard(2)  # Discard an element (does not raise an error if not found)\n",
    "set_a.remove(3)  # Remove an element (raises an error if not found) \n",
    "print(\"Set A after removal:\", set_a)\n",
    "#to clear a set, we use the clear method\n",
    "set_a.clear()  # Clear the set\n",
    "print(\"Set A after clearing:\", set_a)\n",
    "\n",
    "## set memebership test\n",
    "set_a = {1, 2, 3, 4, 5}    \n",
    "print(3 in set_a)  # Check if an element is in the set\n",
    "print(6  in set_a)  # Check if an element is not in the set\n",
    "\n"
   ]
  },
  {
   "cell_type": "code",
   "execution_count": 30,
   "metadata": {},
   "outputs": [
    {
     "name": "stdout",
     "output_type": "stream",
     "text": [
      "Symmetric Difference: {1, 2, 4, 5}\n",
      "False\n",
      "False\n",
      "False\n",
      "1\n",
      "Set A after pop: {2, 3}\n",
      "Set from string: {'apple', 'cherry', 'banana'}\n"
     ]
    }
   ],
   "source": [
    "#symmetric difference\n",
    "set_a = {1, 2, 3}   \n",
    "set_b = {3, 4, 5}\n",
    "symmetric_diff = set_a ^ set_b  # Symmetric difference\n",
    "print(\"Symmetric Difference:\", symmetric_diff)\n",
    "\n",
    "#sets methods\n",
    "print(set_a.issubset(set_b))  # Check if set_a is a subset of set_b\n",
    "print(set_a.issuperset(set_b))  # Check if set_a is a superset of set_b\n",
    "print(set_a.isdisjoint(set_b))  # Check if set_a and set_b have no common elements\n",
    "print(set_a.pop())  # Remove and return an arbitrary element from the set   \n",
    "print(\"Set A after pop:\", set_a)\n",
    "\n",
    "## splitting a string into a set\n",
    "string = \"apple banana cherry\"\n",
    "set_from_string = set(string.split())  # Split the string and convert to a set\n",
    "print(\"Set from string:\", set_from_string)"
   ]
  },
  {
   "cell_type": "code",
   "execution_count": 43,
   "metadata": {},
   "outputs": [
    {
     "name": "stdout",
     "output_type": "stream",
     "text": [
      "Name: John\n",
      "30\n",
      "City: New York\n",
      "Not Found\n",
      "Updated Student: {'name': 'John', 'age': 31, 'city': 'New York', 'grades in class2 ': [85, 90, 78], 'is_student': False, 'country': 'USA'}\n",
      "After deletion: {'name': 'John', 'age': 31, 'city': 'New York', 'grades in class2 ': [85, 90, 78], 'country': 'USA'}\n"
     ]
    }
   ],
   "source": [
    "## Dictionary\n",
    "# Creating a dictionary \n",
    "Student = {\n",
    "    \"name\": \"John\",\n",
    "    \"age\": 30,\n",
    "    \"city\": \"New York\",\n",
    "    \"grades in class2 \": [85, 90, 78],\n",
    "    \"is_student\": False\n",
    "}   \n",
    "# Accessing dictionary values\n",
    "print(\"Name:\", Student[\"name\"])\n",
    "print(Student.get (\"age\"))  # Using get method\n",
    "print(\"City:\", Student.get(\"city\", \"Unknown\"))  # Default value if key not found\n",
    "print(Student.get(\"country\", \"Not Found\"))  # Key not found, returns default value\n",
    "\n",
    "# Update dictionary values\n",
    "Student[\"age\"] = 31  # Update existing key  \n",
    "Student[\"country\"] = \"USA\"  # Add new key-value pair\n",
    "print(\"Updated Student:\", Student)\n",
    "\n",
    "#Deleting dictionary values\n",
    "del Student[\"is_student\"]  # Delete a key-value pair    \n",
    "print(\"After deletion:\", Student)"
   ]
  },
  {
   "cell_type": "code",
   "execution_count": 46,
   "metadata": {},
   "outputs": [
    {
     "name": "stdout",
     "output_type": "stream",
     "text": [
      "Keys: dict_keys(['name', 'age', 'city', 'grades in class2 ', 'country'])\n",
      "Values: dict_values(['John', 31, 'New York', [85, 90, 78], 'USA'])\n",
      "Items: dict_items([('name', 'John'), ('age', 31), ('city', 'New York'), ('grades in class2 ', [85, 90, 78]), ('country', 'USA')])\n",
      "Shallow Copy: {'name': 'John', 'age': 31, 'city': 'New York', 'grades in class2 ': [85, 90, 78], 'country': 'USA'}\n",
      "Shallow Copy: {'name': 'John', 'age': 31, 'city': 'New York', 'grades in class2 ': [85, 90, 78], 'country': 'USA'}\n"
     ]
    }
   ],
   "source": [
    "#Dictionary Methods\n",
    "keys = Student.keys()  # Get all keys\n",
    "values = Student.values()  # Get all values\n",
    "items = Student.items()  # Get all key-value pairs\n",
    "print(\"Keys:\", keys)\n",
    "print(\"Values:\", values)\n",
    "print(\"Items:\", items)\n",
    "\n",
    "#shallow copy and deep copy\n",
    "student_copy = Student\n",
    "print(\"Shallow Copy:\", student_copy)# this creates a shallow copy, both variables point to the same object,\n",
    "#note that changes to one will affect the other\n",
    "\n",
    "#for proper shallow copy, we use the copy method\n",
    "student_copy = Student.copy()  # Create a shallow copy\n",
    "print(\"Shallow Copy:\", student_copy) #this creates a new dictionary with the same key-value pairs, but changes to one will not affect the other"
   ]
  },
  {
   "cell_type": "code",
   "execution_count": 47,
   "metadata": {},
   "outputs": [
    {
     "name": "stdout",
     "output_type": "stream",
     "text": [
      "name: John\n",
      "age: 31\n",
      "city: New York\n",
      "grades in class2 : [85, 90, 78]\n",
      "country: USA\n"
     ]
    }
   ],
   "source": [
    "#iterate over a dictionary\n",
    "for key, value in Student.items(): #iterate over key-value pairs\n",
    "    print(f\"{key}: {value}\")   #f string for formatted output"
   ]
  },
  {
   "cell_type": "code",
   "execution_count": 48,
   "metadata": {},
   "outputs": [
    {
     "name": "stdout",
     "output_type": "stream",
     "text": [
      "USD Balance: 100\n"
     ]
    }
   ],
   "source": [
    "#Nested dictionary, a dictionary within a dictionary,like monngoDB,like money in a wallet\n",
    "#example of a nested dictionary\n",
    "# A dictionary representing a wallet with multiple currencies\n",
    "nested_dict = {\n",
    "    \"USD\": {\"balance\": 100, \"transactions\": [10, -5, 20]},\n",
    "    \"EUR\": {\"balance\": 50, \"transactions\": [5, -2]},\n",
    "    \"GBP\": {\"balance\": 30, \"transactions\": [3, -1]}\n",
    "}\n",
    "# Accessing nested dictionary values\n",
    "print(\"USD Balance:\", nested_dict[\"USD\"][\"balance\"])"
   ]
  },
  {
   "cell_type": "code",
   "execution_count": 53,
   "metadata": {},
   "outputs": [
    {
     "name": "stdout",
     "output_type": "stream",
     "text": [
      "Currency: USD:{'balance': 100, 'transactions': [10, -5, 20]}\n",
      "Balance: 100\n",
      "Transactions: [10, -5, 20] \n",
      "Currency: EUR:{'balance': 50, 'transactions': [5, -2]}\n",
      "Balance: 50\n",
      "Transactions: [5, -2] \n",
      "Currency: GBP:{'balance': 30, 'transactions': [3, -1]}\n",
      "Balance: 30\n",
      "Transactions: [3, -1] \n"
     ]
    }
   ],
   "source": [
    "# iterate over a nested dictionary\n",
    "for currency, details in nested_dict.items():# iterate over currencies\n",
    "    print(f\"Currency: {currency}:{details}\") # this prints the currency and its details\n",
    "    # Accessing balance and transactions within the nested dictionary\n",
    "    print(f\"Balance: {details['balance']}\") # Accessing balance\n",
    "    # Accessing transactions\n",
    "    print(\"Transactions:\", details[\"transactions\"],end=' ') # this prints the transactions\n",
    "    print()  # Print a newline for better readability"
   ]
  },
  {
   "cell_type": "code",
   "execution_count": 55,
   "metadata": {},
   "outputs": [
    {
     "name": "stdout",
     "output_type": "stream",
     "text": [
      "Squares Dictionary: {1: 1, 2: 4, 3: 9, 4: 16, 5: 25}\n",
      "Even Squares Dictionary: {2: 4, 4: 16, 6: 36, 8: 64, 10: 100}\n"
     ]
    }
   ],
   "source": [
    "## dictionary comprehension\n",
    "# Create a dictionary with squares of numbers from 1 to 5   \n",
    "squares = {x: x**2 for x in range(1, 6)}  # Dictionary comprehension\n",
    "print(\"Squares Dictionary:\", squares)\n",
    "# Conditional dictionary comprehension\n",
    "even_squares = {x: x**2 for x in range(1, 11) if x % 2 == 0}  # Only even numbers\n",
    "print(\"Even Squares Dictionary:\", even_squares)"
   ]
  },
  {
   "cell_type": "code",
   "execution_count": 56,
   "metadata": {},
   "outputs": [
    {
     "name": "stdout",
     "output_type": "stream",
     "text": [
      "Frequency of elements: {'apple': 3, 'banana': 2, 'orange': 1}\n"
     ]
    }
   ],
   "source": [
    "#practical example\n",
    "# use a dictionary to count the frequency of of elements in a list\n",
    "elements = ['apple', 'banana', 'apple', 'orange', 'banana', 'apple']\n",
    "frequency = {}  # Initialize an empty dictionary\n",
    "for element in elements:\n",
    "    if element in frequency:\n",
    "        frequency[element] += 1  # Increment count if element exists\n",
    "    else:\n",
    "        frequency[element] = 1  # Initialize count if element does not exist\n",
    "print(\"Frequency of elements:\", frequency)"
   ]
  },
  {
   "cell_type": "code",
   "execution_count": 58,
   "metadata": {},
   "outputs": [
    {
     "name": "stdout",
     "output_type": "stream",
     "text": [
      "Merged Dictionary: {'a': 1, 'b': 3, 'c': 4}\n"
     ]
    }
   ],
   "source": [
    "#merging two dictionaries\n",
    "dict1 = {'a': 1, 'b': 2}    \n",
    "dict2 = {'b': 3, 'c': 4}  # Another dictionary\n",
    "merged_dict = {**dict1, **dict2}  # Merge dictionaries using unpacking\n",
    "print(\"Merged Dictionary:\", merged_dict)"
   ]
  },
  {
   "cell_type": "code",
   "execution_count": 63,
   "metadata": {},
   "outputs": [
    {
     "name": "stdout",
     "output_type": "stream",
     "text": [
      "Updated To-Do List:\n",
      "Buy groceries\n",
      "Call mom\n",
      "Walk the dog\n",
      "Read a book\n",
      "Exercise\n",
      "Call mom - don't forget to call your mum.\n"
     ]
    }
   ],
   "source": [
    "# Craeting a to do list using a list\n",
    "todo_list = [\"Buy groceries\", \"Complete homework\", \"Call mom\"]\n",
    "# Adding a new task to the to-do list\n",
    "todo_list.append(\"Walk the dog\")\n",
    "todo_list.append(\"Read a book\")\n",
    "todo_list.append(\"Exercise\")\n",
    "# Removing a task from the to-do list\n",
    "todo_list.remove(\"Complete homework\")\n",
    "# Display the updated to-do list\n",
    "print(\"Updated To-Do List:\")\n",
    "for task in todo_list:\n",
    "    print(task)\n",
    "\n",
    "#checking if a task is in the to-do list\n",
    "task_to_check = \"Call mom\"\n",
    "if task_to_check in todo_list:\n",
    "    print(f\"{task_to_check} - don't forget to call your mum.\")\n",
    "\n"
   ]
  },
  {
   "cell_type": "code",
   "execution_count": 69,
   "metadata": {},
   "outputs": [
    {
     "name": "stdout",
     "output_type": "stream",
     "text": [
      "Updated Grades:\n",
      "Name: Alice, Math: 85, Science: 90, Art: 95, Business: 78\n",
      "Name: Bob, Math: 78, Science: 82, Art: 95, Business: None\n",
      "Name: Charlie, Math: 92, Science: 88, Art: 95, Business: None\n",
      "Alice's Average Grade: 87.00\n",
      "Bob's Average Grade: 85.00\n",
      "Charlie's Average Grade: 91.67\n"
     ]
    }
   ],
   "source": [
    "# Example 2 - Organizing student grades using a list\n",
    "# Create a list of dictionaries to store student grades \n",
    "grades = [\n",
    "    {\"name\": \"Alice\", \"math\": 85, \"science\": 90},\n",
    "    {\"name\": \"Bob\", \"math\": 78, \"science\": 82},\n",
    "    {\"name\": \"Charlie\", \"math\": 92, \"science\": 88}\n",
    "]   \n",
    "# adding a new grade called art to the dictionary\n",
    "for student in grades:\n",
    "    student[\"art\"] = 95  # Adding a new subject with a grade\n",
    "\n",
    "# Updating a student's grade\n",
    "grades[0][\"business\"] = 78   # Update Alice's business grade\n",
    "\n",
    "# Display the updated grades\n",
    "print(\"Updated Grades:\")\n",
    "for student in grades:\n",
    "    print(f\"Name: {student['name']}, Math: {student['math']}, Science: {student['science']}, Art: {student['art']}, Business: {student.get('business', 'None')}\")\n",
    "\n",
    "# Average grade calculation\n",
    "for student in grades:\n",
    "    # Only include subjects that exist for the student\n",
    "    subjects = [student.get(\"math\", 0), student.get(\"science\", 0), student.get(\"art\", 0)]\n",
    "    # Add business if present\n",
    "    if \"business\" in student:\n",
    "        subjects.append(student[\"business\"])\n",
    "    average = sum(subjects) / len(subjects)\n",
    "    print(f\"{student['name']}'s Average Grade: {average:.2f}\")  # Print average with two decimal places"
   ]
  },
  {
   "cell_type": "code",
   "execution_count": 71,
   "metadata": {},
   "outputs": [
    {
     "name": "stdout",
     "output_type": "stream",
     "text": [
      "apples\n",
      "bananas\n",
      "oranges\n",
      "grapes\n",
      "Bananas are in the inventory.\n"
     ]
    }
   ],
   "source": [
    "#Managing an iventory using Lists\n",
    "inventory = [ \"apples\", \"bananas\", \"oranges\"]\n",
    "# Adding items to the inventory\n",
    "inventory.append(\"grapes\")\n",
    "for item in inventory:\n",
    "    print(item)\n",
    "if \"bananas\" in inventory:\n",
    "    print(\"Bananas are in the inventory.\")\n",
    "else:\n",
    "    print(\"Bananas are not in the inventory.\")\n",
    "    \n",
    "    "
   ]
  },
  {
   "cell_type": "code",
   "execution_count": 85,
   "metadata": {},
   "outputs": [
    {
     "name": "stdout",
     "output_type": "stream",
     "text": [
      "Feedback Received: ['2']\n",
      "Number of Positive Feedback: 0\n",
      "Number of Negative Feedback: 1\n"
     ]
    }
   ],
   "source": [
    "#getting feedback from a user\n",
    "feedback = input(\"Please provide your feedback in either of the follwoing: 1 for positive, 2 for negative: \")\n",
    "while feedback not in ['1', '2']:\n",
    "    print(\"Invalid input. Please enter 1 for positive feedback or 2 for negative feedback.\")\n",
    "    feedback = input(\"Please provide your feedback in either of the following: 1 for positive, 2 for negative: \")  \n",
    "# Store feedback in a list\n",
    "feedback_list = [] \n",
    "feedback_list.append(feedback)  # Append the feedback to the list\n",
    "# Display the feedback received\n",
    "print(\"Feedback Received:\", feedback_list)\n",
    "# Count the number of positive and negative feedback\n",
    "feedback = ''.join(feedback_list)  # Convert list to string for counting   \n",
    "positive_count = feedback.count('1')  # Count positive feedback\n",
    "negative_count = feedback.count('2')  # Count negative feedback \n",
    "print(\"Number of Positive Feedback:\", positive_count)\n",
    "print(\"Number of Negative Feedback:\", negative_count)   \n",
    " \n",
    "\n",
    "\n",
    "\n",
    "\n",
    "\n",
    "\n"
   ]
  },
  {
   "cell_type": "code",
   "execution_count": 88,
   "metadata": {},
   "outputs": [
    {
     "name": "stdout",
     "output_type": "stream",
     "text": [
      "Hello, Alice!\n",
      "The sum is: 8\n"
     ]
    }
   ],
   "source": [
    "#function in python\n",
    "# a function is a block of code that only runs when it is called\n",
    "# you can pass data, known as parameters, into a function.\n",
    "#it helps to arrange code into reusable blocks and improving readability\n",
    "#syntax\n",
    "# 1. def function_name(parameters): The keyword 'def' is used to define a function\n",
    "# 2. after that add a docstring to describe the function of the function\n",
    "def greet(name):\n",
    "    \"\"\"This function greets the person passed as a parameter.\"\"\"# docstring\n",
    "# 3. The function body contains the code to be executed when the function is called\n",
    "\n",
    "    print(f\"Hello, {name}!\")  # Print a greeting message\n",
    "#4. Call the function with an argument\n",
    "greet(\"Alice\")  # Call the function with the argument \"Alice\"\n",
    "#or you use a return statement to return a value from the function\n",
    "def add_numbers(a, b):\n",
    "    \"\"\"This function adds two numbers and returns the result.\"\"\"\n",
    "    return a + b  # Return the sum of a and b   \n",
    "# Call the function and store the result\n",
    "result = add_numbers(5, 3)  # Call the function with arguments 5 and 3\n",
    "print(f\"The sum is: {result}\")  # Print the result  \n",
    "\n",
    "#"
   ]
  },
  {
   "cell_type": "code",
   "execution_count": 92,
   "metadata": {},
   "outputs": [
    {
     "name": "stdout",
     "output_type": "stream",
     "text": [
      "The number is Even\n"
     ]
    }
   ],
   "source": [
    "## why use functions?\n",
    "# Functions help to organize code into reusable blocks, making it easier to read and maintain.  \n",
    "#for example, if i want to know whether a number is even or odd, i can create a function for that\n",
    "def is_even_or_odd(number):\n",
    "    \"\"\"This function checks if a number is even or odd.\"\"\"\n",
    "    if number % 2 == 0:\n",
    "        return \"The number is Even\"  # Return \"Even\" if the number is even\n",
    "    else:\n",
    "        return \"The number is Odd\"  # Return \"Odd\" if the number is odd   \n",
    "# Call the function with different numbers\n",
    "print(is_even_or_odd(10))  # Output: Even"
   ]
  },
  {
   "cell_type": "code",
   "execution_count": 93,
   "metadata": {},
   "outputs": [
    {
     "name": "stdout",
     "output_type": "stream",
     "text": [
      "The area of the rectangle is: 15\n"
     ]
    }
   ],
   "source": [
    "#functions with multiple parameters\n",
    "def calculate_area(length, width):\n",
    "    \"\"\"This function calculates the area of a rectangle.\"\"\"\n",
    "    Area= length * width  # Calculate the area  \n",
    "    return Area # Return the area of the rectangle\n",
    "\n",
    "# Call the function with length and width\n",
    "length = 5\n",
    "width = 3\n",
    "area = calculate_area(length, width)  # Call the function with arguments 5 and 3\n",
    "print(f\"The area of the rectangle is: {area}\")  # Print the area\n"
   ]
  },
  {
   "cell_type": "code",
   "execution_count": 96,
   "metadata": {},
   "outputs": [
    {
     "name": "stdout",
     "output_type": "stream",
     "text": [
      "Hello, guest!, Welcome to Wonder Studio\n"
     ]
    }
   ],
   "source": [
    "#Default parameters\n",
    "def greet(name= 'guest', greeting=\"Hello\"):\n",
    "    \"\"\"This function greets a person with a default greeting, hello and also a default name as guess if the name is not given.\"\"\"\n",
    "    print(f\"{greeting}, {name}!, Welcome to Wonder Studio\")  # Print a greeting message with the name\n",
    "# Call the function with a name and default greeting\n",
    "greet()  # Output: Hello, Alice! "
   ]
  },
  {
   "cell_type": "code",
   "execution_count": 97,
   "metadata": {},
   "outputs": [
    {
     "name": "stdout",
     "output_type": "stream",
     "text": [
      "6\n"
     ]
    }
   ],
   "source": [
    "##Vraiable Length Arguments\n",
    "##postional arguments allow you to pass a variable number of arguments to a function.\n",
    "# This allows you to pass any number of arguments to the function, which are accessible as a tuple within the function.\n",
    "# This is useful when you don't know in advance how many arguments will be passed to the function   \n",
    "def calculate_sum(*args): #*args is the syntax for positional arguments\n",
    "    \"\"\"This function calculates the sum of all arguments passed to it.\"\"\"\n",
    "    total = 0  # Initialize total to 0\n",
    "    for num in args:  # Iterate over all arguments\n",
    "        total += num  # Add each argument to total\n",
    "    return total  # Return the total sum\n",
    "\n",
    "# Call the function with different numbers\n",
    "print(calculate_sum(1, 2, 3))  # Output: 6"
   ]
  },
  {
   "cell_type": "code",
   "execution_count": 98,
   "metadata": {},
   "outputs": [
    {
     "name": "stdout",
     "output_type": "stream",
     "text": [
      "name: Alice\n",
      "age: 20\n",
      "city: Wonderland\n"
     ]
    }
   ],
   "source": [
    "## Keyword Arguments\n",
    "# Keyword arguments allow you to pass arguments to a function by specifying the parameter names.\n",
    "def print_student_info(**kwargs):\n",
    "    \"\"\"This function prints student information with a default city.\"\"\"\n",
    "    for key, value in kwargs.items():\n",
    "        print(f\"{key}: {value}\")\n",
    "# Call the function with keyword arguments\n",
    "print_student_info(name=\"Alice\", age=20, city=\"Wonderland\")  # Output: name: Alice, age: 20, city: Wonderland\n",
    "\n"
   ]
  },
  {
   "cell_type": "code",
   "execution_count": 100,
   "metadata": {},
   "outputs": [
    {
     "name": "stdout",
     "output_type": "stream",
     "text": [
      "Name: Alice, Age: 25, City: Wonderland\n",
      "Name: Bob, Age: 30, City: Unknown\n",
      "Username: john_doe, Password: securepassword\n",
      "email: efrrf@gmail.com\n",
      "age: 25\n",
      "city: Wonderland\n"
     ]
    }
   ],
   "source": [
    "#different bewteen positional and keyword arguments\n",
    "def display_info(name, age, city=\"Unknown\"):\n",
    "    \"\"\"This function displays information about a person.\"\"\"\n",
    "    print(f\"Name: {name}, Age: {age}, City: {city}\")    \n",
    "# Call the function with positional and keyword arguments\n",
    "display_info(\"Alice\", 25, city=\"Wonderland\")  # Positional and keyword\n",
    "display_info(\"Bob\", 30)  # Positional only, city will be \"Unknown\"\n",
    "# Function with both positional and keyword arguments\n",
    "def register_user(username, password, **kwargs):\n",
    "    \"\"\"This function registers a user with username, password, and additional information.\"\"\"\n",
    "    print(f\"Username: {username}, Password: {password}\")\n",
    "    for key, value in kwargs.items():\n",
    "        print(f\"{key}: {value}\")  # Print additional information\n",
    "# Call the function with positional and keyword arguments\n",
    "register_user(\"john_doe\", \"securepassword\", email=\"efrrf@gmail.com\", age=25, city=\"Wonderland\")  # Output: Username: john_doe, Password: securepassword, email:\n",
    "\n"
   ]
  },
  {
   "cell_type": "code",
   "execution_count": 101,
   "metadata": {},
   "outputs": [
    {
     "name": "stdout",
     "output_type": "stream",
     "text": [
      "25 degrees Celsius to Fahrenheit: 77.0\n",
      "77 degrees Fahrenheit to Celsius: 25.0\n"
     ]
    }
   ],
   "source": [
    "#function example\n",
    "#Temperature conversion function\n",
    "def convert_temperature(temp,unit):\n",
    "    \"\"\"This function converts temperature from Celsius to Fahrenheit or vice versa.\"\"\"\n",
    "    if unit == 'C':\n",
    "        return (temp * 9/5) + 32  # Convert Celsius to Fahrenheit\n",
    "    elif unit == 'F':\n",
    "        return (temp - 32) * 5/9  # Convert Fahrenheit to Celsius\n",
    "    else:\n",
    "        raise ValueError(\"Invalid unit. Use 'C' for Celsius or 'F' for Fahrenheit.\")\n",
    "    \n",
    "# Call the function with different temperatures\n",
    "print(\"25 degrees Celsius to Fahrenheit:\", convert_temperature(25, 'C'))  # Output: 77.0\n",
    "print(\"77 degrees Fahrenheit to Celsius:\", convert_temperature(77, 'F'))  # Output: 25.0"
   ]
  },
  {
   "cell_type": "code",
   "execution_count": 103,
   "metadata": {},
   "outputs": [
    {
     "name": "stdout",
     "output_type": "stream",
     "text": [
      "Password is valid.\n",
      "Password must contain at least one digit.\n",
      "Password must contain at least one letter.\n"
     ]
    }
   ],
   "source": [
    "#password validation function\n",
    "def validate_password(password):\n",
    "    \"\"\"This function validates a password based on length and character requirements.\"\"\"\n",
    "    if len(password) < 8:\n",
    "        return \"Password must be at least 8 characters long.\"\n",
    "    if not any(char.isdigit() for char in password):\n",
    "        return \"Password must contain at least one digit.\"\n",
    "    if not any(char.isalpha() for char in password):\n",
    "        return \"Password must contain at least one letter.\"\n",
    "    if not any(char.islower() for char in password):\n",
    "        return \"Password must contain at least one lowercase letter.\"\n",
    "    if not any(char.isupper() for char in password):\n",
    "        return \"Password must contain at least one uppercase letter.\"\n",
    "    if not any(char in \"!@#$%^&*()-_=+[]|;:,.<>?/\" for char in password):\n",
    "        return \"Password must contain at least one special character.\"\n",
    "    return \"Password is valid.\"\n",
    "#call the function with different passwords\n",
    "print(validate_password(\"Password123!\"))  # Output: Password is valid.\n",
    "print(validate_password(\"password\"))  # Output: Password must contain at least one digit.\n",
    "print(validate_password(\"12345678\"))  # Output: Password must contain at least one letter.  "
   ]
  },
  {
   "cell_type": "code",
   "execution_count": 105,
   "metadata": {},
   "outputs": [
    {
     "name": "stdout",
     "output_type": "stream",
     "text": [
      "Total cost of items in the cart: $7.00\n"
     ]
    }
   ],
   "source": [
    "#Example- calculate the total cost of iteams in a shopping cart\n",
    "def calculate_total_cost(cart_items):\n",
    "    \"\"\"This function calculates the total cost of items in a shopping cart.\"\"\"\n",
    "    total_cost = 0  # Initialize total cost to 0\n",
    "    for item in cart_items:  # Iterate over each item in the cart\n",
    "        total_cost += item[\"price\"] * item[\"quantity\"]  # Calculate cost for each item\n",
    "    return total_cost  # Return the total cost\n",
    "cart_items = [\n",
    "    {\"item\": \"apple\", \"price\": 1.0, \"quantity\": 3},\n",
    "    {\"item\": \"banana\", \"price\": 0.5, \"quantity\": 5},\n",
    "    {\"item\": \"orange\", \"price\": 0.75, \"quantity\": 2}\n",
    "  ]\n",
    "# Call the function with the shopping cart items\n",
    "total_cost = calculate_total_cost(cart_items)  # Call the function with the cart items\n",
    "print(f\"Total cost of items in the cart: ${total_cost:.2f}\")  # Print the total cost with two decimal places"
   ]
  },
  {
   "cell_type": "code",
   "execution_count": 107,
   "metadata": {},
   "outputs": [
    {
     "name": "stdout",
     "output_type": "stream",
     "text": [
      "True\n",
      "False\n"
     ]
    }
   ],
   "source": [
    "# check if a string is a palindrome\n",
    "def is_palindrome(s):\n",
    "    \"\"\"This function checks if a string is a palindrome.\"\"\"\n",
    "    s = s.lower()  # Convert the string to lowercase\n",
    "    return s == s[::-1]  # Check if the string is equal to its reverse\n",
    "# Call the function with different strings\n",
    "print(is_palindrome(\"racecar\"))  # Output: True\n",
    "print(is_palindrome(\"hello\"))  # Output: False"
   ]
  },
  {
   "cell_type": "code",
   "execution_count": 108,
   "metadata": {},
   "outputs": [
    {
     "name": "stdout",
     "output_type": "stream",
     "text": [
      "120\n"
     ]
    }
   ],
   "source": [
    "#calculate the factorial of a number using recursion e.g 5!= 5 * 4 * 3 * 2 * 1\n",
    "#recursion is a technique where a function calls itself to solve a problem.\n",
    "# It is often used to solve problems that can be broken down into smaller subproblems.  \n",
    "def factorial(n):\n",
    "    \"\"\"This function calculates the factorial of a number using recursion.\"\"\"\n",
    "    if n == 0 or n == 1:  # Base case: factorial of 0 or 1 is 1\n",
    "        return 1\n",
    "    else:\n",
    "        return n * factorial(n - 1)  # Recursive case: n * factorial of (n-1) until it reaches the base case which is 0 or 1    \n",
    "# Call the function with different numbers\n",
    "print(factorial(5))  # Output: 120"
   ]
  },
  {
   "cell_type": "code",
   "execution_count": null,
   "metadata": {},
   "outputs": [],
   "source": [
    "## wrtte a function to read file and count the number of lines in it\n",
    "def count_lines_in_file(file_path):\n",
    "    word_count = {}\n",
    "    with open(file_path, 'r') as file:\n",
    "        for line in file:\n",
    "            words = line.split()\n",
    "            for word in words:\n",
    "                word = word.lower().strip('.,!?\";:()[]') # Normalize the word by converting to lowercase and .strip is used to remove punctuation\n",
    "                if word in word_count:\n",
    "                    word_count[word] += 1   \n",
    "                else:\n",
    "                    word_count[word] = 1\n",
    "    return word_count  # Return the dictionary with word counts\n",
    "# Call the function with a file path\n",
    "file_path = 'example.txt'  # Replace with your file path\n",
    "word_count = count_lines_in_file(file_path)  # Call the function with the file path\n",
    "print(\"Word Count:\", word_count)  # Print the dictionary with word counts\n",
    "                "
   ]
  },
  {
   "cell_type": "code",
   "execution_count": 109,
   "metadata": {},
   "outputs": [
    {
     "name": "stdout",
     "output_type": "stream",
     "text": [
      "True\n",
      "False\n"
     ]
    }
   ],
   "source": [
    "#Valid email address validation function\n",
    "import re  # Import the regular expression module   \n",
    "def is_valid_email(email):\n",
    "    \"\"\"This function checks if an email address is valid using regular expressions.\"\"\"\n",
    "    pattern = r'^[a-zA-Z0-9._%+-]+@[a-zA-Z0-9.-]+\\.[a-zA-Z]{2,}$'  # Regular expression pattern for a valid email\n",
    "    return re.match(pattern, email) is not None  # Return True if the email matches the pattern, otherwise False\n",
    "# Call the function with different email addresses\n",
    "print(is_valid_email(\"adedejiadeyemi@gmail.com\"))  # Output: True\n",
    "print(is_valid_email(\"invalid-email\"))  # Output: False"
   ]
  },
  {
   "cell_type": "code",
   "execution_count": 110,
   "metadata": {},
   "outputs": [
    {
     "name": "stdout",
     "output_type": "stream",
     "text": [
      "8\n"
     ]
    }
   ],
   "source": [
    "#Lamda functions\n",
    "# Lambda functions are anonymous functions defined using the lambda keyword.\n",
    "# They can take any number of arguments but can only have one expression.\n",
    "# Lambda functions are often used for short, simple functions that are not reused elsewhere.\n",
    "# Lambda synxax: lambda arguments: expression\n",
    "# Example of a lambda function to add two numbers\n",
    "add = lambda x, y: x + y  # Lambda function to add two numbers\n",
    "# Call the lambda function with arguments\n",
    "print(add(5, 3))  # Output: 8"
   ]
  },
  {
   "cell_type": "code",
   "execution_count": 111,
   "metadata": {},
   "outputs": [
    {
     "name": "stdout",
     "output_type": "stream",
     "text": [
      "True\n",
      "False\n"
     ]
    }
   ],
   "source": [
    "#lamda function to check if a number is even or odd\n",
    "is_even = lambda x: x % 2 == 0  # Lambda function to check if a number is even\n",
    "# Call the lambda function with different numbers   \n",
    "print(is_even(10))  # Output: True\n",
    "print(is_even(7))  # Output: False  "
   ]
  },
  {
   "cell_type": "code",
   "execution_count": 112,
   "metadata": {},
   "outputs": [
    {
     "name": "stdout",
     "output_type": "stream",
     "text": [
      "24\n"
     ]
    }
   ],
   "source": [
    "#lambda function with multiple arguments\n",
    "multiply = lambda x, y, z: x * y * z  # Lambda function to multiply three numbers\n",
    "# Call the lambda function with arguments\n",
    "print(multiply(2, 3, 4))  # Output: 24"
   ]
  },
  {
   "cell_type": "code",
   "execution_count": 113,
   "metadata": {},
   "outputs": [
    {
     "name": "stdout",
     "output_type": "stream",
     "text": [
      "Squared Numbers: [1, 4, 9, 16, 25]\n"
     ]
    }
   ],
   "source": [
    "## Map- it applies a function to all items in an input list (or any iterable) and returns a map object (which is an iterator).\n",
    "# The map function takes two arguments: a function and an iterable (like a list).\n",
    "def square(x):\n",
    "    \"\"\"This function returns the square of a number.\"\"\"\n",
    "    return x ** 2  # Return the square of x\n",
    "# Create a list of numbers\n",
    "numbers = [1, 2, 3, 4, 5]\n",
    "\n",
    "# Use the map function to apply the square function to each number in the list\n",
    "#Map takes a function and an iterable, applies the function to each item in the iterable, and returns a map object\n",
    "squared_numbers = map(square, numbers)  # Apply the square function to each number in the list\n",
    "print(\"Squared Numbers:\", list(squared_numbers))  # Convert the map object to a list\n"
   ]
  },
  {
   "cell_type": "code",
   "execution_count": 115,
   "metadata": {},
   "outputs": [
    {
     "name": "stdout",
     "output_type": "stream",
     "text": [
      "Squared Numbers with Lambda: [1, 4, 9, 16, 25]\n",
      "Added Numbers: [5, 7, 9]\n"
     ]
    }
   ],
   "source": [
    "#Lambda with map\n",
    "# You can also use a lambda function with map to achieve the same result\n",
    "squared_numbers_lambda = map(lambda x: x ** 2, numbers)  # Apply a lambda function to square each number\n",
    "print(\"Squared Numbers with Lambda:\", list(squared_numbers_lambda))  # Convert the map object to a list\n",
    "\n",
    "## Map multiple iterables\n",
    "# You can also use map with multiple iterables by passing multiple arguments to the function    \n",
    "# Create two lists of numbers\n",
    "numbers1 = [1, 2, 3]    \n",
    "numbers2 = [4, 5, 6]\n",
    "# Use the map function to apply the lambda function to each pair of numbers from both lists\n",
    "added_numbers = map(lambda x,y: x+y, numbers1, numbers2)  # Apply the add function to  each pair of numbers from both lists\n",
    "print(\"Added Numbers:\", list(added_numbers))  # Convert the map object to a list"
   ]
  },
  {
   "cell_type": "code",
   "execution_count": null,
   "metadata": {},
   "outputs": [
    {
     "name": "stdout",
     "output_type": "stream",
     "text": [
      "Integer Numbers: [1, 2, 3, 4, 5]\n",
      "Type of int_numbers: <class 'list'>\n"
     ]
    }
   ],
   "source": [
    "#using map function to convert a list of strings to integers\n",
    "string_numbers = [\"1\", \"2\", \"3\", \"4\", \"5\"]  \n",
    "# Use the map function to convert each string to an integer\n",
    "int_numbers = list(map(int, string_numbers))  # Convert each string to an integer\n",
    "print(\"Integer Numbers:\", int_numbers)  # Print the list of integers\n",
    "print(\"Type of int_numbers:\", type(int_numbers))  # Print the type of the list"
   ]
  },
  {
   "cell_type": "code",
   "execution_count": 1,
   "metadata": {},
   "outputs": [
    {
     "name": "stdout",
     "output_type": "stream",
     "text": [
      "Filtered Even Numbers: [2, 4, 6, 8, 10]\n"
     ]
    }
   ],
   "source": [
    "#filter function\n",
    "# The filter function is used to filter elements from an iterable based on a condition defined by a function.\n",
    "# It takes two arguments: a function and an iterable (like a list).\n",
    "def is_even(x):\n",
    "    \"\"\"This function checks if a number is even.\"\"\"\n",
    "    return x % 2 == 0  # Return True if x is even, otherwise False\n",
    "# Create a list of numbers\n",
    "numbers = [1, 2, 3, 4, 5, 6, 7, 8, 9, 10]\n",
    "# Use the filter function to apply the is_even function to each number in the list\n",
    "filtered_numbers = filter(is_even, numbers)  # Apply the is_even function to each number in the list\n",
    "print(\"Filtered Even Numbers:\", list(filtered_numbers))  # Convert the filter object to a list"
   ]
  },
  {
   "cell_type": "code",
   "execution_count": 2,
   "metadata": {},
   "outputs": [
    {
     "name": "stdout",
     "output_type": "stream",
     "text": [
      "Filtered Even Numbers with Lambda: [2, 4, 6, 8, 10]\n"
     ]
    }
   ],
   "source": [
    "##filter with lambda\n",
    "# You can also use a lambda function with filter to achieve the same result \n",
    "filtered_numbers_lambda = filter(lambda x: x % 2 == 0, numbers)  # Apply a lambda function to filter even numbers\n",
    "print(\"Filtered Even Numbers with Lambda:\", list(filtered_numbers_lambda))  # Convert the filter object"
   ]
  },
  {
   "cell_type": "code",
   "execution_count": 3,
   "metadata": {},
   "outputs": [
    {
     "name": "stdout",
     "output_type": "stream",
     "text": [
      "Numbers Greater Than Five: [6, 7, 8, 9, 10]\n"
     ]
    }
   ],
   "source": [
    "##filter and lambda to check a vaule greater than a certain value\n",
    "greater_than_five = list(filter(lambda x: x > 5, numbers))  # Apply a lambda function to filter numbers greater than 5\n",
    "## NOTE that filter and map return an iterator, so you need to convert it to a list to see the results\n",
    "print(\"Numbers Greater Than Five:\", greater_than_five)  # Print the list of numbers"
   ]
  },
  {
   "cell_type": "code",
   "execution_count": 4,
   "metadata": {},
   "outputs": [
    {
     "name": "stdout",
     "output_type": "stream",
     "text": [
      "Filtered Even Numbers Greater Than Five: [6, 8, 10]\n"
     ]
    }
   ],
   "source": [
    "##filter with lambda witth multiple conditions\n",
    "# You can also use a lambda function with multiple conditions in filter\n",
    "filtered_numbers_multiple_conditions = filter(lambda x: x % 2 == 0 and x > 5, numbers)  # Filter even numbers greater than 5\n",
    "print(\"Filtered Even Numbers Greater Than Five:\", list(filtered_numbers_multiple_conditions))  # Convert the"
   ]
  },
  {
   "cell_type": "code",
   "execution_count": 7,
   "metadata": {},
   "outputs": [
    {
     "name": "stdout",
     "output_type": "stream",
     "text": [
      "Square root of 16: 4.0\n"
     ]
    }
   ],
   "source": [
    "#importing modles and packages\n",
    "# a module is a file containing Python code, which can define functions, classes, and variables.\n",
    "# A package is a collection of modules organized in a directory hierarchy.\n",
    "#to check the functions in the math module, you can use the dir() function\n",
    "import math  # Import the math module\n",
    "#to import all functions from a module, you can use the * operator\n",
    "# import math  # Import the math module\n",
    "from math import *  # Import all functions from the math module\n",
    "print(\"Square root of 16:\", sqrt(16))  # Calculate the square root\n"
   ]
  },
  {
   "cell_type": "code",
   "execution_count": null,
   "metadata": {},
   "outputs": [],
   "source": [
    "#how to create a custom package\n",
    "# A package is a collection of modules organized in a directory structure.\n",
    "#example of a package structure:\n",
    "# my_package/\n",
    "# ├── __init__.py -- This file is required to make Python treat the directory as a package.\n",
    "# ├── module1.py -- A module containing functions or classes.,we created math_operations.py\n",
    "# └── module2.py -- Another module containing functions or classes."
   ]
  },
  {
   "cell_type": "code",
   "execution_count": 17,
   "metadata": {},
   "outputs": [
    {
     "name": "stdout",
     "output_type": "stream",
     "text": [
      "6\n",
      "apple\n"
     ]
    }
   ],
   "source": [
    "#standard library modules\n",
    "# Python has a rich standard library that provides many useful modules for various tasks.\n",
    "# Some commonly used standard library modules include:\n",
    "import array  # Provides an array data structure\n",
    "import datetime  # Provides classes for manipulating dates and times    \n",
    "import json  # Provides functions for working with JSON data\n",
    "import os  # Provides functions for interacting with the operating system\n",
    "import random  # Provides functions for generating random numbers\n",
    "print( random.randint(1, 10))  # Generate a random integer between 1 and 10\n",
    "print(random.choice(['apple', 'banana', 'cherry']))  # Choose a random element from a list\n",
    "import re  # Provides functions for working with regular expressions"
   ]
  },
  {
   "cell_type": "code",
   "execution_count": 18,
   "metadata": {},
   "outputs": [
    {
     "name": "stdout",
     "output_type": "stream",
     "text": [
      "Current Directory: c:\\Users\\Acer\\Desktop\\My Learning Board\\Python_Lessons\n"
     ]
    }
   ],
   "source": [
    "## file and directory operations\n",
    "# Python provides built-in functions for file and directory operations.\n",
    "# You can use the os module to perform file and directory operations.\n",
    "import os  # Import the os module for file and directory operations\n",
    "# Get the current working directory\n",
    "current_directory = os.getcwd()  # Get the current working directory\n",
    "print(\"Current Directory:\", current_directory)  # Print the current directory\n"
   ]
  },
  {
   "cell_type": "code",
   "execution_count": null,
   "metadata": {},
   "outputs": [],
   "source": [
    "##High level file operations\n",
    "# Python provides built-in functions for reading and writing files. \n",
    "# You can use the open() function to open a file and read or write its contents.\n",
    "# Example of reading a file\n",
    "with open('example.txt', 'r') as file:  # Open the file in read mode\n",
    "    content = file.read()  # Read the entire file content\n",
    "    print(\"File Content:\", content)  # Print the file content\n",
    "#example of copying a file\n",
    "import shutil  # Import the shutil module for file operations\n",
    "# Copy a file from one location to another\n",
    "shutil.copy('source.txt', 'destination.txt')  # Copy source.txt to destination.txt"
   ]
  },
  {
   "cell_type": "code",
   "execution_count": 21,
   "metadata": {},
   "outputs": [
    {
     "name": "stdout",
     "output_type": "stream",
     "text": [
      "JSON String: {\"name\": \"Alice\", \"age\": 30, \"city\": \"Wonderland\"}\n",
      "Type of json_string: <class 'str'>\n",
      "Deserialized Data: {'name': 'Alice', 'age': 30, 'city': 'Wonderland'}\n",
      "Type of deserialized_data: <class 'dict'>\n"
     ]
    }
   ],
   "source": [
    "### Data Serialization\n",
    "# Python provides built-in modules for data serialization, such as JSON and pickle.\n",
    "# if we are interacting with APIs or storing data in a file, we can use JSON for serialization.\n",
    "#serialization is the process of converting a data structure or object into a format that can be easily stored or transmitted and reconstructed later.\n",
    "import json  # Import the json module for data serialization\n",
    "data= {\n",
    "    \"name\": \"Alice\", \"age\": 30, \"city\": \"Wonderland\"\n",
    "}  # Example data to be serialized  \n",
    "# Serialize the data to a JSON string\n",
    "json_string = json.dumps(data)  # Convert the data to a JSON string\n",
    "print(\"JSON String:\", json_string)  # Print the JSON string\n",
    "print(\"Type of json_string:\", type(json_string))  # Print the type of the JSON string\n",
    "# Deserialize the JSON string back to a Python object\n",
    "deserialized_data = json.loads(json_string)  # Convert the JSON string back to a Python\n",
    "print(\"Deserialized Data:\", deserialized_data)  # Print the deserialized data\n",
    "print(\"Type of deserialized_data:\", type(deserialized_data))  # Print the type of the deserialized data"
   ]
  },
  {
   "cell_type": "code",
   "execution_count": 24,
   "metadata": {},
   "outputs": [
    {
     "name": "stdout",
     "output_type": "stream",
     "text": [
      "Row: ['name', 'age']\n",
      "Row: ['Alice', '30']\n",
      "Row: ['Bob', '25']\n",
      "Row: ['Charlie', '35']\n"
     ]
    }
   ],
   "source": [
    "### csv\n",
    "# Python provides built-in support for reading and writing CSV files using the csv module.\n",
    "import csv  # Import the csv module for working with CSV files\n",
    "  \n",
    "# Write the data to a CSV file\n",
    "with open('data.csv', 'w', newline='') as file:  # using mode= w helps to Open the file in write mode\n",
    "    writer = csv.writer(file)  # Create a CSV writer object\n",
    "    writer.writerow(['name','age'])  # Write the data to the CSV file\n",
    "    writer.writerows([[\"Alice\", 30], [\"Bob\", 25], [\"Charlie\", 35]])  # Write multiple rows to the CSV file\n",
    "# Read the data from the CSV file\n",
    "with open('data.csv', 'r') as file:  # Open the file in read mode\n",
    "    reader = csv.reader(file)  # Create a CSV reader object\n",
    "    for row in reader:  # Iterate over each row in the CSV file\n",
    "        print(\"Row:\", row)  # Print the row data    \n",
    "    "
   ]
  },
  {
   "cell_type": "code",
   "execution_count": 28,
   "metadata": {},
   "outputs": [
    {
     "name": "stdout",
     "output_type": "stream",
     "text": [
      "Current Date and Time: 2025-08-22 17:44:36.825054\n",
      "Yesterday's Date: 2025-08-21 17:44:36.825054\n"
     ]
    }
   ],
   "source": [
    "### Dtae and Time\n",
    "# Python provides built-in support for working with dates and times using the datetime module.\n",
    "import datetime  # Import the datetime module for working with dates and times\n",
    "# Get the current date and time\n",
    "now= datetime.datetime.now()  # Get the current date and time\n",
    "print(\"Current Date and Time:\", now)  # Print the current date and time\n",
    "yesterday = now - datetime.timedelta(days=1)  # Get yesterday's date\n",
    "print(\"Yesterday's Date:\", yesterday)  # Print yesterday's date\n"
   ]
  },
  {
   "cell_type": "code",
   "execution_count": 32,
   "metadata": {},
   "outputs": [
    {
     "name": "stdout",
     "output_type": "stream",
     "text": [
      "Current Time in Seconds: 1755877615.8487396\n",
      "Sleeping for 2 seconds...\n",
      "1755877617.8498485\n",
      "Awake!\n"
     ]
    }
   ],
   "source": [
    "##time \n",
    "import time  # Import the time module for working with time\n",
    "# Get the current time in seconds since the epoch (January 1, 1970) \n",
    "current_time = time.time()  # Get the current time in seconds since the epoch\n",
    "print(\"Current Time in Seconds:\", current_time)  # Print the current time in seconds\n",
    "## sleep for 2 seconds\n",
    "print(\"Sleeping for 2 seconds...\")  \n",
    "time.sleep(2)  # Sleep for 2 seconds\n",
    "print(time.time())  # Print the current time after sleeping\n",
    "print(\"Awake!\")  # Print a message after waking up\n"
   ]
  },
  {
   "cell_type": "code",
   "execution_count": 33,
   "metadata": {},
   "outputs": [
    {
     "name": "stdout",
     "output_type": "stream",
     "text": [
      "Matches: ['lazy', 'lazy']\n"
     ]
    }
   ],
   "source": [
    "##Regular Expressions\n",
    "# Python provides built-in support for working with regular expressions using the re module.    \n",
    "import re  # Import the re module for working with regular expressions\n",
    "# Example of using regular expressions to find all occurrences of a pattern in a string\n",
    "text = \"The quick brown fox jumps over the lazy dog. The dog is lazy.\"\n",
    "pattern = r'\\blazy\\b'  # Regular expression pattern to match the word \"lazy\"\n",
    "matches = re.findall(pattern, text)  # Find all occurrences of the pattern in the text  \n",
    "print(\"Matches:\", matches)  # Print the matches found"
   ]
  },
  {
   "cell_type": "code",
   "execution_count": 38,
   "metadata": {},
   "outputs": [
    {
     "name": "stdout",
     "output_type": "stream",
     "text": [
      "name 'b' is not defined\n"
     ]
    }
   ],
   "source": [
    "## exceptions and error handling\n",
    "# Python provides built-in support for handling exceptions and errors using try-except blocks. \n",
    "#exceptions are events that occur during the execution of a program that disrupt the normal flow of the program. \n",
    "\n",
    "try: #  that the code inside the try block will be executed\n",
    "    a=b\n",
    "except NameError as e:\n",
    "    print(e)  # Handle the exception\n"
   ]
  },
  {
   "cell_type": "code",
   "execution_count": 39,
   "metadata": {},
   "outputs": [
    {
     "name": "stdout",
     "output_type": "stream",
     "text": [
      "Error: Division by zero is not allowed.\n"
     ]
    }
   ],
   "source": [
    "### zero division error\n",
    "try:\n",
    "    result = 10 / 0  # Attempt to divide by zero    \n",
    "except ZeroDivisionError as e:\n",
    "    print(\"Error: Division by zero is not allowed.\")"
   ]
  },
  {
   "cell_type": "code",
   "execution_count": null,
   "metadata": {},
   "outputs": [],
   "source": [
    "##The primary exception classes in Python are:\n",
    "# Exception: The base class for all exceptions.\n",
    "# ValueError: Raised when a function receives an argument of the correct type but an inappropriate value.\n",
    "# TypeError: Raised when an operation or function is applied to an object of inappropriate type.\n",
    "# KeyError: Raised when a dictionary key is not found.\n",
    "# IndexError: Raised when a sequence subscript is out of range. \n",
    "# FileNotFoundError: Raised when a file or directory is requested but cannot be found.\n",
    "# ImportError: Raised when an imported module or object cannot be found.    \n"
   ]
  },
  {
   "cell_type": "code",
   "execution_count": 43,
   "metadata": {},
   "outputs": [
    {
     "name": "stdout",
     "output_type": "stream",
     "text": [
      "An unexpected error occurred: name 'b' is not defined\n"
     ]
    }
   ],
   "source": [
    "# Handling multiple exceptions\n",
    "try:\n",
    "    a=b\n",
    "    result = 10 / 0  # Attempt to divide by zero\n",
    "   \n",
    "except (ZeroDivisionError, ValueError) as e:  # Handle multiple exceptions\n",
    "    print(\"Error:\", e)\n",
    "except Exception as e:  # Catch any other exception\n",
    "    print(\"An unexpected error occurred:\", e)\n"
   ]
  },
  {
   "cell_type": "code",
   "execution_count": 51,
   "metadata": {},
   "outputs": [
    {
     "name": "stdout",
     "output_type": "stream",
     "text": [
      "Error: Invalid input. Please enter a valid number.\n"
     ]
    }
   ],
   "source": [
    "## try-except-else# The else block is executed if no exceptions are raised in the try block.\n",
    "try:\n",
    "    number = int(input(\"Enter a number: \"))  # Attempt to convert input to an integer\n",
    "    result = 10 / number  # Attempt to divide by a non-zero number\n",
    "except ValueError as e:\n",
    "    print(\"Error: Invalid input. Please enter a valid number.\")\n",
    "except ZeroDivisionError as e:\n",
    "    print(\"Error: Division by zero is not allowed.\")   \n",
    "except Exception as e:\n",
    "    print(e)  # Handle any exception that occurs\n",
    "else:\n",
    "    print(\"Result:\", result)"
   ]
  },
  {
   "cell_type": "code",
   "execution_count": 52,
   "metadata": {},
   "outputs": [
    {
     "name": "stdout",
     "output_type": "stream",
     "text": [
      "Error: Invalid input. Please enter a valid number.\n",
      "Execution completed.\n"
     ]
    }
   ],
   "source": [
    "## try-except-else-finally\n",
    "# The finally block is always executed, regardless of whether an exception was raised or not.\n",
    "## try-except-else# The else block is executed if no exceptions are raised in the try block.\n",
    "try:\n",
    "    number = int(input(\"Enter a number: \"))  # Attempt to convert input to an integer\n",
    "    result = 10 / number  # Attempt to divide by a non-zero number\n",
    "except ValueError as e:\n",
    "    print(\"Error: Invalid input. Please enter a valid number.\")\n",
    "except ZeroDivisionError as e:\n",
    "    print(\"Error: Division by zero is not allowed.\")   \n",
    "except Exception as e:\n",
    "    print(e)  # Handle any exception that occurs\n",
    "else:\n",
    "    print(\"Result:\", result)\n",
    "finally:\n",
    "    print(\"Execution completed.\")"
   ]
  },
  {
   "cell_type": "code",
   "execution_count": 53,
   "metadata": {},
   "outputs": [
    {
     "name": "stdout",
     "output_type": "stream",
     "text": [
      "Result: 5.0\n",
      "Execution completed.\n"
     ]
    }
   ],
   "source": [
    "#example of exception handling- try-except-else-finally\n",
    "def divide_numbers(a, b):\n",
    "    \"\"\"This function divides two numbers and handles exceptions.\"\"\"\n",
    "    try:\n",
    "        result = a / b  # Attempt to divide a by b\n",
    "    except ZeroDivisionError as e:\n",
    "        print(\"Error: Division by zero is not allowed.\")  # Handle division by zero\n",
    "    except TypeError as e:\n",
    "        print(\"Error: Invalid input type. Please enter numbers.\")  # Handle invalid input type\n",
    "    else:\n",
    "        print(\"Result:\", result)  # Print the result if no exceptions were raised\n",
    "    finally:\n",
    "        print(\"Execution completed.\")  # This block is always executed\n",
    "# Call the function with different inputs\n",
    "divide_numbers(10, 2)  # Output: Result: 5.0"
   ]
  },
  {
   "cell_type": "code",
   "execution_count": 54,
   "metadata": {},
   "outputs": [
    {
     "name": "stdout",
     "output_type": "stream",
     "text": [
      "Error: File not found. Please check the file path.\n",
      "File closed.\n"
     ]
    }
   ],
   "source": [
    "## file handling and exception handling\n",
    "# File handling is a common task in Python, and it can raise exceptions if the file does not exist or cannot be opened.\n",
    "try:\n",
    "    with open('example.txt', 'r') as file:  # Attempt to open a file in read mode\n",
    "        content = file.read()  # Read the entire file content\n",
    "        a=b\n",
    "        print(\"File Content:\", content)  # Print the file content\n",
    "except FileNotFoundError as e:\n",
    "    print(\"Error: File not found. Please check the file path.\")\n",
    "except Exception as e:\n",
    "    print(\"An unexpected error occurred:\", e)   \n",
    "finally:\n",
    "    if 'file' in locals() or not file.closed():  # Check if the file variable exists\n",
    "        file.close()  # Close the file if it was opened \n",
    "    print(\"File closed.\")\n",
    "    "
   ]
  },
  {
   "cell_type": "code",
   "execution_count": null,
   "metadata": {},
   "outputs": [],
   "source": [
    "### Class and Objects\n",
    "## OOP (Object-Oriented Programming) is a programming paradigm that uses objects to represent data and behavior.\n",
    "# In Python, classes are used to create objects, which are instances of the class.\n",
    "#oop is used to organize code into reusable and modular components and used for building real-world applications.\n",
    "# A class is a blueprint for creating objects. It defines the properties and behaviors of the\n",
    "# objects created from it. An object is an instance of a class, which contains data and methods to manipulate that data.\n",
    "# A class can have attributes (data) and methods (functions) that define its behavior."
   ]
  },
  {
   "cell_type": "code",
   "execution_count": 55,
   "metadata": {},
   "outputs": [
    {
     "name": "stdout",
     "output_type": "stream",
     "text": [
      "Audi Object: <__main__.car object at 0x000002283EF4ED80>\n"
     ]
    }
   ],
   "source": [
    "#creating a class\n",
    "class car: # this is a class definition\n",
    "    \"\"\"This class represents a car with attributes and methods.\"\"\"\n",
    "    pass  # The pass statement is used as a placeholder for an empty class definition\n",
    "audi= car()  # Create an instance of the car class\n",
    "bmw = car()  # Create another instance of the car class\n",
    "print(\"Audi Object:\", audi)  # Print the audi object, which is an instance of the car class"
   ]
  },
  {
   "cell_type": "code",
   "execution_count": 56,
   "metadata": {},
   "outputs": [
    {
     "name": "stdout",
     "output_type": "stream",
     "text": [
      "Audi Windows: 4\n"
     ]
    }
   ],
   "source": [
    "audi.windows = 4  # Set the number of windows for the audi object- attributes \n",
    "#but this is not a good practice, we should use the __init__ method to initialize attributes\n",
    "print(\"Audi Windows:\", audi.windows)  # Print the number of windows for the audi object"
   ]
  },
  {
   "cell_type": "code",
   "execution_count": 57,
   "metadata": {},
   "outputs": [
    {
     "name": "stdout",
     "output_type": "stream",
     "text": [
      "Dog 1 Name: Buddy\n",
      "Dog 2 Age: 5\n"
     ]
    }
   ],
   "source": [
    "##proper way to create a class with attributes and methods\n",
    "# The __init__ method is a special method that is called when an object is created from a class.\n",
    "# it is called a constructor. It initializes the attributes of the object.\n",
    "class dog: #define a class called dog\n",
    "    \"\"\"This class represents a dog with attributes and methods.\"\"\"\n",
    "    ##constructor method to initialize attributes\n",
    "    def __init__(self, name, age):  # The __init__ method is the constructor that initializes the object's attributes\n",
    "        \"\"\"This method initializes the dog's name and breed.\"\"\"\n",
    "        self.name = name # self is a reference to the current instance of the class\n",
    "        #self.name is the instance variable that stores the dog's name\n",
    "        self.age = age # self.age is the instance variable that stores the dog's age\n",
    " ## creating object \n",
    "dog1 = dog(\"Buddy\", 3)  # Create an instance of the dog class with name \"Buddy\" and age 3\n",
    "dog2 = dog(\"Max\", 5)  # Create another instance of the dog class with name \"Max\" and age 5\n",
    "# Accessing attributes of the dog objects\n",
    "print(\"Dog 1 Name:\", dog1.name)  # Print the name of dog1\n",
    "print(\"Dog 2 Age:\", dog2.age)  # Print the age of dog2\n"
   ]
  },
  {
   "cell_type": "code",
   "execution_count": 58,
   "metadata": {},
   "outputs": [
    {
     "name": "stdout",
     "output_type": "stream",
     "text": [
      "Buddy says Woof!\n",
      "Max says Woof!\n",
      "Buddy is 3 years old.\n",
      "Max is 5 years old.\n"
     ]
    }
   ],
   "source": [
    "## creating methods also known as attribute\n",
    "class dog:  # Define a class called dog\n",
    "    \"\"\"This class represents a dog with attributes and methods.\"\"\"\n",
    "    \n",
    "    def __init__(self, name, age):  # Constructor method to initialize attributes\n",
    "        \"\"\"This method initializes the dog's name and age.\"\"\"\n",
    "        #creating the properties of the dog\n",
    "        self.name = name  # Instance variable for dog's name\n",
    "        self.age = age  # Instance variable for dog's age\n",
    "    \n",
    "    def bark(self):  # We use the self to refer to the instance of the class (name and age)\n",
    "        # Method to make the dog bark\n",
    "        \"\"\"This method makes the dog bark.\"\"\"\n",
    "        print(f\"{self.name} says Woof!\")  # Print the dog's name and bark sound\n",
    "    \n",
    "    def get_age(self):  # Method to get the dog's age\n",
    "        \"\"\"This method returns the dog's age.\"\"\"\n",
    "        return self.age  # Return the dog's age\n",
    "# Creating dog objects\n",
    "dog1 = dog(\"Buddy\", 3)  # Create an instance of the dog class\n",
    "dog2 = dog(\"Max\", 5)  # Create another instance of the dog class\n",
    "# Calling methods on the dog objects\n",
    "dog1.bark()  # Call the bark method on dog1\n",
    "dog2.bark()  # Call the bark method on dog2\n",
    "# Getting the age of the dogs\n",
    "print(f\"{dog1.name} is {dog1.get_age()} years old.\")  # Print the age of dog1\n",
    "print(f\"{dog2.name} is {dog2.get_age()} years old.\")  # Print the age of dog2"
   ]
  },
  {
   "cell_type": "code",
   "execution_count": 59,
   "metadata": {},
   "outputs": [
    {
     "name": "stdout",
     "output_type": "stream",
     "text": [
      "Deposited $500. New balance: $1500.\n",
      "Withdrew $200. New balance: $1300.\n",
      "Current balance: $1300.\n"
     ]
    }
   ],
   "source": [
    "##modeling a bank account using a class\n",
    "class BankAccount:\n",
    "    \"\"\"This class represents a bank account with attributes and methods.\"\"\"\n",
    "    \n",
    "    def __init__(self, account_number, balance=0):  # Constructor method to initialize attributes\n",
    "        \"\"\"This method initializes the bank account's account number and balance.\"\"\"\n",
    "        self.account_number = account_number  # Instance variable for account number\n",
    "        self.balance = balance  # Instance variable for balance\n",
    "    \n",
    "    def deposit(self, amount):  # Method to deposit money into the account\n",
    "        \"\"\"This method deposits money into the bank account.\"\"\"\n",
    "        if amount > 0:  # Check if the deposit amount is positive\n",
    "            self.balance += amount  # Add the deposit amount to the balance\n",
    "            print(f\"Deposited ${amount}. New balance: ${self.balance}.\")  # Print the new balance\n",
    "        else:\n",
    "            print(\"Deposit amount must be positive.\")  # Print an error message if the deposit amount is not positive\n",
    "    \n",
    "    def withdraw(self, amount):  # Method to withdraw money from the account\n",
    "        \"\"\"This method withdraws money from the bank account.\"\"\"\n",
    "        if amount > 0 and amount <= self.balance:  # Check if the withdrawal amount is positive and less than or equal to the balance\n",
    "            self.balance -= amount  # Subtract the withdrawal amount from the balance\n",
    "            print(f\"Withdrew ${amount}. New balance: ${self.balance}.\")  # Print the new balance\n",
    "        else:\n",
    "            print(\"Insufficient funds or invalid withdrawal amount.\")  # Print an error message if insufficient funds or invalid withdrawal amount\n",
    "    \n",
    "    def get_balance(self):  # Method to get the current balance of the account\n",
    "        \"\"\"This method returns the current balance of the bank account.\"\"\"\n",
    "        return self.balance  # Return the current balance\n",
    "# Creating a bank account object\n",
    "account = BankAccount(\"123456789\", 1000)  # Create an instance of the BankAccount class with account number and initial balance\n",
    "# Performing operations on the bank account\n",
    "account.deposit(500)  # Deposit $500 into the account\n",
    "account.withdraw(200)  # Withdraw $200 from the account \n",
    "print(f\"Current balance: ${account.get_balance()}.\")  # Print the current balance of the account\n",
    "# Inheritance"
   ]
  },
  {
   "cell_type": "code",
   "execution_count": 60,
   "metadata": {},
   "outputs": [
    {
     "name": "stdout",
     "output_type": "stream",
     "text": [
      "you have deposited $500. your new balance is $ 1500.\n",
      "Current balance: $1500.\n"
     ]
    }
   ],
   "source": [
    "class BankAccount:\n",
    "    \"\"\"This class represents a bank account of individuals\"\"\"\n",
    "    def __init__ (self, accountnumber, balance):\n",
    "        \"\"\"This method initializes the bank account's account number and balance.\"\"\"\n",
    "        self.accountnumber = accountnumber # instance variable for account number\n",
    "        self.balance = balance # instance variable for balance\n",
    "    def deposit(self, amount):\n",
    "        \"\"\"This method deposits money into the bank account.\"\"\"\n",
    "        if amount > 0:\n",
    "            self.balance = self.balance + amount  # Add the deposit amount to the balance\n",
    "            print(f\"you have deposited ${amount}. your new balance is $ {self.balance}.\")\n",
    "## creating the object\n",
    "BankAccount1 = BankAccount(\"123456789\", 1000)  # Create an instance of the BankAccount class with account number and initial balance\n",
    "BankAccount1.deposit(500)  # Deposit $500 into the account\n",
    "print(f\"Current balance: ${BankAccount1.balance}.\")  # Print the current balance of the account"
   ]
  },
  {
   "cell_type": "code",
   "execution_count": 62,
   "metadata": {},
   "outputs": [
    {
     "name": "stdout",
     "output_type": "stream",
     "text": [
      "you have deposited $500. your new balance is $ 1500.\n",
      "you have deposited $45.0. your new balance is $ 1545.0.\n"
     ]
    },
    {
     "ename": "AttributeError",
     "evalue": "'SavingsAccount' object has no attribute 'get_balance'",
     "output_type": "error",
     "traceback": [
      "\u001b[1;31m---------------------------------------------------------------------------\u001b[0m",
      "\u001b[1;31mAttributeError\u001b[0m                            Traceback (most recent call last)",
      "Cell \u001b[1;32mIn[62], line 23\u001b[0m\n\u001b[0;32m     21\u001b[0m savings_account\u001b[38;5;241m.\u001b[39mdeposit(\u001b[38;5;241m500\u001b[39m)  \u001b[38;5;66;03m# Deposit $500 into the savings account\u001b[39;00m\n\u001b[0;32m     22\u001b[0m savings_account\u001b[38;5;241m.\u001b[39mapply_interest()  \u001b[38;5;66;03m# Apply interest to the savings account\u001b[39;00m\n\u001b[1;32m---> 23\u001b[0m \u001b[38;5;28mprint\u001b[39m(\u001b[38;5;124mf\u001b[39m\u001b[38;5;124m\"\u001b[39m\u001b[38;5;124mCurrent balance: $\u001b[39m\u001b[38;5;132;01m{\u001b[39;00m\u001b[43msavings_account\u001b[49m\u001b[38;5;241;43m.\u001b[39;49m\u001b[43mget_balance\u001b[49m()\u001b[38;5;132;01m}\u001b[39;00m\u001b[38;5;124m.\u001b[39m\u001b[38;5;124m\"\u001b[39m)  \u001b[38;5;66;03m# Print the current balance of the savings account\u001b[39;00m\n",
      "\u001b[1;31mAttributeError\u001b[0m: 'SavingsAccount' object has no attribute 'get_balance'"
     ]
    }
   ],
   "source": [
    "##Inheritance\n",
    "# Inheritance is a mechanism in OOP that allows a class to inherit attributes and methods from another class.\n",
    "# The class that inherits is called the child class, and the class being inherited from is called\n",
    "# the parent class. This allows for code reuse and the creation of a hierarchy of classes.\n",
    "class SavingsAccount(BankAccount):  # SavingsAccount inherits from BankAccount\n",
    "    \"\"\"This class represents a savings account with additional features.\"\"\"\n",
    "    \n",
    "    def __init__(self, account_number, balance=0, interest_rate=0.05):  # Constructor method to initialize attributes\n",
    "        \"\"\"This method initializes the savings account's account number, balance, and interest rate.\"\"\"\n",
    "        super().__init__(account_number, balance)  # Call the parent class constructor to initialize account number and balance\n",
    "        self.interest_rate = interest_rate  # Instance variable for interest rate\n",
    "    \n",
    "    def apply_interest(self):  # Method to apply interest to the savings account\n",
    "        \"\"\"This method applies interest to the savings account.\"\"\"\n",
    "        interest = self.balance * self.interest_rate  # Calculate interest based on the balance and interest rate\n",
    "        self.deposit(interest)  # Deposit the calculated interest into the account\n",
    "        \n",
    "# Creating a savings account object\n",
    "savings_account = SavingsAccount(\"987654321\", 1000, 0.03)  # Create an instance of the SavingsAccount class with account number, initial balance, and interest rate\n",
    "# Performing operations on the savings account\n",
    "savings_account.deposit(500)  # Deposit $500 into the savings account\n",
    "savings_account.apply_interest()  # Apply interest to the savings account\n",
    "print(f\"Current balance: ${savings_account.get_balance()}.\")  # Print the current balance of the savings account\n"
   ]
  }
 ],
 "metadata": {
  "kernelspec": {
   "display_name": "base",
   "language": "python",
   "name": "python3"
  },
  "language_info": {
   "codemirror_mode": {
    "name": "ipython",
    "version": 3
   },
   "file_extension": ".py",
   "mimetype": "text/x-python",
   "name": "python",
   "nbconvert_exporter": "python",
   "pygments_lexer": "ipython3",
   "version": "3.12.4"
  }
 },
 "nbformat": 4,
 "nbformat_minor": 2
}
